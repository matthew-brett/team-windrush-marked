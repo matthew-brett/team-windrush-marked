{
 "cells": [
  {
   "cell_type": "markdown",
   "metadata": {},
   "source": [
    "# Project Windrush\n",
    "\n",
    "Run this notebook to see the project.\n",
    "\n",
    "**marking** - careful of misspellings - e.g \"deporation\" **end**\n",
    "\n",
    "In this project, we will be investigating government deporation data. In particular, we are interested in deporations which might be connected to the Windrush Scandal.\n",
    "Uncovered in 2018 by journalists, the windrush scandal is the political scandal in which the Home Office was discovered to have detained, threatened and deported people, illegally, from the UK. It is known as the 'Windrush' scandal after the Empire Windrush, a ship which transported many people from the Carribean to the UK in the late 1940s. The generation of people who travelled to the UK from the late 1940s to early 1970s are therefore known as the Windrush Generation.\n",
    "\n",
    "As more stories of unlawful treatment were uncovered by the guardian, the scandal gained public awareness and led to the resignation of the then home secretary Amber Rudd. The prime minister issued an apology about the treatment of Windrush citizens to Carribbean leaders and promised that the scandal would end. The current Home Secretary, Sajid Javid, also vowed to put an end to the scandal.\n",
    "\n",
    "The initial question of the project was to answer the question: Has the Windrush Scandal really ended?\n",
    "\n",
    "However, after deeper analysis of the data (see further down in the notebook), it became apparent that we were unable to answer this question with the data availble.\n",
    "\n",
    "This notebook wil detail how we came to that conclusion."
   ]
  },
  {
   "cell_type": "markdown",
   "metadata": {},
   "source": [
    "### Timeline of Key Events\n",
    "\n",
    "**marking** This plot does look good, but using Matplotlib in this way is bit clunky.  This is one example where using a GUI package and then saving the graphic might have been easier. **end**"
   ]
  },
  {
   "cell_type": "code",
   "execution_count": null,
   "metadata": {},
   "outputs": [],
   "source": [
    "#Before we look at the data, we have created a timeline of events key to the Windrush Scandal. This is to give an overview of the scale of the scandal, as well as key dates which might explain data trends.\n",
    "\n",
    "# Code adapted from https://matplotlib.org/gallery/lines_bars_and_markers/timeline.html\n",
    "\n",
    "##marking\n",
    "# Consider putting this boilerplate code at the top, separate from the plots.\n",
    "##end\n",
    "import pandas as pd\n",
    "import matplotlib.pyplot as plt\n",
    "import numpy as np\n",
    "import matplotlib.dates as mdates\n",
    "from datetime import datetime\n",
    "\n",
    "#make it look nice\n",
    "plt.style.use('fivethirtyeight')\n",
    "\n",
    "# A list of key Windrush dates, see references at the end\n",
    "\n",
    "# Create series of  events\n",
    "names = ['Empire Windrush arrived in the UK',\n",
    "         'Immigration Act 1971', 'Cut off point for the 1971 Immigration Act',\n",
    "         'Registry slips destroyed','Theresa May first talks of the Hostile Environment policy',\n",
    "         'One of the first Windrush stories reported in the Guardian',\n",
    "         'May apologies to Carribbean leaders', 'Amber Rudd resigns',\n",
    "         'Sajid Javid becomes Home Secretary']\n",
    "\n",
    "# Create series of dates\n",
    "dates = ['1948-06-22T03:00:07Z',\n",
    "         '1971-10-28T12:53:32Z', '1973-01-01T04:56:47Z',\n",
    "         '2010-10-01T04:47:38Z', '2012-05-25T22:35:12Z',\n",
    "         '2017-11-28T02:11:15Z', '2018-04-14T01:59:49Z',\n",
    "         '2018-04-29T02:59:36Z', ]\n",
    "\n",
    "#Select the correct datetime formart\n",
    "##marking\n",
    "# Consider also pd.to_datetime[]\n",
    "pd.to_datetime(dates)\n",
    "##end\n",
    "dates = [datetime.strptime(ii, \"%Y-%m-%dT%H:%M:%SZ\") for ii in dates]"
   ]
  },
  {
   "cell_type": "code",
   "execution_count": null,
   "metadata": {},
   "outputs": [],
   "source": [
    "levels = np.array([-6, 5, -3, 3, -1, 1])\n",
    "fig, ax = plt.subplots(figsize=(20, 10))\n",
    "\n",
    "# Create the axis for the timeline\n",
    "start = min(dates)\n",
    "stop = max(dates)\n",
    "ax.plot((start, stop), (0, 0), 'k', alpha=1)\n",
    "\n",
    "# Annote on the axis where each point is\n",
    "for ii, (iname, idate) in enumerate(zip(names, dates)):\n",
    "    level = levels[ii %6]\n",
    "    vert = 'top' if level < 0 else 'bottom'\n",
    "\n",
    "    # Make it a nice colour\n",
    "    ax.scatter(idate, 0, s=100, facecolor='b', edgecolor='c', zorder=9999)\n",
    "    # Plot a line up to the text\n",
    "    ax.plot((idate, idate), (0, level), c='c', alpha=.7)\n",
    "    # Give the text a faint background and align it properly\n",
    "    ax.text(idate, level, iname,\n",
    "            horizontalalignment='right', verticalalignment=vert, fontsize=12,\n",
    "            backgroundcolor=(1., 1., 1., .3))\n",
    "ax.set(title=\"Windrush Scandal Key Dates\",)\n",
    "\n",
    "# Remove  box around the edge and the and y axis so it looks a bit nicer\n",
    "plt.setp((ax.get_yticklabels() + ax.get_yticklines() +\n",
    "          list(ax.spines.values())), visible=False)\n",
    "plt.show()"
   ]
  },
  {
   "cell_type": "markdown",
   "metadata": {},
   "source": [
    "**marking** - it would be good to have some formatting below, such as bold for\n",
    "the figure, and making the entries into a list. **end**\n",
    "\n",
    "Figure 1 -  Timeline of Windrush Scandal Key Dates"
   ]
  },
  {
   "cell_type": "markdown",
   "metadata": {},
   "source": [
    "The above figure shows a timeline of key events. But what do they mean? Some of them are obvious, such as 'Empire Windrush arrived in the UK'. Other key dates are explained below.\n",
    "\n",
    "October 1971     The Immigration Act of 1971 - This gave the right to Indefinate Leave to Remain (IRL)in the UK to citizens of Commonwealth Countries who arrived in the UK prior to the act.\n",
    "                 (https://www.legislation.gov.uk/ukpga/1971/77)\n",
    "\n",
    "January 1973     Cut off point for the 1971 Immigration Act  - The 1971 Immigration Act came into aciton on the 1st of January 1973.\n",
    "\n",
    "October 2010     Registry Slips are destroyed - This is when the Home Office commenced the destruction of Landing Slips, formerly known as Registry slips. For some people, Landing Slips are the only piece of evidence of their date of arrival in the UK.\n",
    "                 (https://www.channel4.com/news/factcheck/factcheck-who-destroyed-the-windrush-landing-cards)\n",
    "\n",
    "May 2012         Theresa May first mentions the 'Hostile Environment' Policy. As a part of this, people are now required to show proof of immigration status when                        accessing public services such as healthcare, benefits etc. Landing Slips, which provide evidence of the date of when people arrived in the UK, and                    therefore whether they are entitled to IRL under the 1971 Immigration Act, now become important pieces of information.\n",
    "                (https://www.telegraph.co.uk/news/uknews/immigration/9291483/Theresa-May-interview-Were-going-to-give-illegal-migrants-a-really-hostile-reception.html)\n"
   ]
  },
  {
   "cell_type": "markdown",
   "metadata": {},
   "source": [
    "#### What does this mean?\n",
    "\n",
    "Essentially what this timeline shows is that the Windrush generation are commonwealth citizens who arrived in the UK before 1973. To specifically analyse whether the scandal has ended would require data on nationality, and data on entry time to the UK.\n"
   ]
  },
  {
   "cell_type": "markdown",
   "metadata": {},
   "source": [
    "### Sourcing Data\n",
    "\n",
    "**marking** - good section - but the section doesn't tell me exactly how to get the data file that you have - for example - a URL to the data file. **end**."
   ]
  },
  {
   "cell_type": "markdown",
   "metadata": {},
   "source": [
    "There are two different sources of data which we could use. The first is from the UK government website:\n",
    "https://data.gov.uk/dataset/043bc9c5-5375-4bd4-9c46-bb91d24a2a5d/immigration-enforcement-data .\n",
    "Similar data can also be found on the European Data Portal. However, after looking through the data, it appeared that more up to date data are published on the European Data Portal than on the UK Gov website - there is more recent data on the European Portal.\n",
    "https://www.europeandataportal.eu/data/en/dataset/immigration-enforcement"
   ]
  },
  {
   "cell_type": "markdown",
   "metadata": {},
   "source": [
    "The next step is to select the data that is needed.\n",
    "There are many different classifications of deportations, and this is represesnted in multiple spreadsheets on the European Data Portal. In order to help understand the terms used in the spreadsheets, we used the Home Office Glossary of terms for interpretation of immigration statistics, which can be found at this link: https://assets.publishing.service.gov.uk/government/uploads/system/uploads/attachment_data/file/781065/user-guide-immigration-statistics.pdf\n",
    "\n",
    "We have selected some of the key terms from this document and made a glossary."
   ]
  },
  {
   "cell_type": "markdown",
   "metadata": {},
   "source": [
    "### Glossary of Key Terms\n",
    "\n",
    "**marking** - again - this does look nice, but it's rather clunky to enter it\n",
    "all in code.  For example, you could have used a [Markdown\n",
    "table](https://github.com/adam-p/markdown-here/wiki/Markdown-Cheatsheet#tables)\n",
    "here. **end**"
   ]
  },
  {
   "cell_type": "code",
   "execution_count": null,
   "metadata": {},
   "outputs": [],
   "source": [
    "# Create a dataframe for the glossary\n",
    "Glossary = pd.DataFrame({\"Term\":['Deportations', 'Enforced removal', 'Voluntary returns'],\n",
    "                          \"Meaning\":['A specific subset of returns which are enforced either following a criminal conviction or when it                              is judged that a person’s  removal from the UK is conducive to the public good. The deportation order prohibits the person returning to the UK until such  time as it may be revoked','A person has  breached UK immigration laws and / or has no valid leave to remain in the UK. They have declined to leave voluntarily and the Home Office enforces their return from the UK. It includes enforced removals from detention and non- detained enforced removals.', 'Comprises of assisted returns,     notified or controlled returns, and other verified returns. It is important to note that this term                                         describes the method of departure, not a particular choice to leave ']})\n",
    "\n",
    "# Show the full table, not just the truncated table\n",
    "pd.set_option('display.max_colwidth',1)\n",
    "Glossary"
   ]
  },
  {
   "cell_type": "markdown",
   "metadata": {},
   "source": [
    "Table 1 - Glossary of terms\n",
    "\n",
    "As can be seen in the glossary, voluntary returns are still a type of deportation as they do not indicate a particular chocie to leave. As such, this category will be included in any data analysis, as is common practice (see for example analysis done by the Oxford Migration Observatory https://migrationobservatory.ox.ac.uk/resources/briefings/deportations-removals-and-voluntary-departures-from-the-uk/)"
   ]
  },
  {
   "cell_type": "markdown",
   "metadata": {},
   "source": [
    "### Checking data\n",
    "The Home Office supplies deportation data in many different formats, and as can be seen by the terms in the glossary, confusing terms.\n",
    "In order to ensure that the right data is being analysed, one table is taken to see if there are comparable values in published literature."
   ]
  },
  {
   "cell_type": "code",
   "execution_count": null,
   "metadata": {},
   "outputs": [],
   "source": [
    "#In order to show an overview of trends in deporation numbers, the first table shows total number of enforced and voluntary removals from 2011-2018."
   ]
  },
  {
   "cell_type": "code",
   "execution_count": null,
   "metadata": {},
   "outputs": [],
   "source": [
    "# Read the data\n",
    "df = pd.read_excel('returns5-sep-2018-tables.xls', sheet_name='rt_07_q', header=3)\n",
    "\n",
    "# Check it is there\n",
    "df.head()"
   ]
  },
  {
   "cell_type": "code",
   "execution_count": null,
   "metadata": {},
   "outputs": [],
   "source": [
    "#In the table above, Column 'D (low harm)' contains integers and the letter 'z'. This will become a problem if we want to sum up totals, as it will not include the column in any calculations. As such, as need to replace any 'z' with a '0'.\n",
    "\n",
    "df_removals = df.replace('z', 0)\n",
    "\n",
    "#Check the first few rows\n",
    "df_removals.head()"
   ]
  },
  {
   "cell_type": "code",
   "execution_count": null,
   "metadata": {},
   "outputs": [],
   "source": [
    "# First we want to find the totals for each Quarter, as we are interested in all the numbers. So that it does not add the year into the sum, create a separate list removing the year column.\n",
    "col_list= list(df_removals)\n",
    "col_list.remove('Year')\n",
    "\n",
    "df_removals['Quarterly Sum'] = df[col_list].sum(axis=1)\n",
    "\n",
    "#check\n",
    "df_removals"
   ]
  },
  {
   "cell_type": "markdown",
   "metadata": {},
   "source": [
    "Table 2, Deportations by type 2011-2018"
   ]
  },
  {
   "cell_type": "code",
   "execution_count": null,
   "metadata": {},
   "outputs": [],
   "source": [
    "# To check that we have the right data (that the right categories of deportations are being compared) we will take the sum of all enforced and voluntary removals for one year and compare it against a verified source.\n",
    "\n",
    "# First locate just 2011.\n",
    "df_removals_graph_2011 = df_removals[df_removals['Year'] == 2011]\n",
    "df_removals_graph_2011\n",
    "\n",
    "#Then sum\n",
    "df_removals_graph_2011['Quarterly Sum'].sum()"
   ]
  },
  {
   "cell_type": "markdown",
   "metadata": {},
   "source": [
    "This means that in the year 2011, a total of 41,482 deportations were recorded."
   ]
  },
  {
   "cell_type": "code",
   "execution_count": null,
   "metadata": {},
   "outputs": [],
   "source": [
    "# Display the image from Oxford Migration Observatory\n",
    "from IPython.display import Image\n",
    "Image(\"2011_ox_mo.png\")"
   ]
  },
  {
   "cell_type": "markdown",
   "metadata": {},
   "source": [
    "We can see that the figures we have correspond with other data analysis, from the Oxford Migration Observatory (a total of 41482 enforced and voluntary departures) That means we are using the correct data. This is important, because later on we analyse the data by nationality and the numbers look a little different."
   ]
  },
  {
   "cell_type": "code",
   "execution_count": null,
   "metadata": {},
   "outputs": [],
   "source": [
    "# We now have the quarterly sums. In order to see change over time more clearly, this can be plotted on a graph. First make a new dataframe with the data to be plotted.\n",
    "df_removals_graph = df_removals[['Quarter','Quarterly Sum','Total']]\n",
    "\n",
    "#Show the first few rows to check\n",
    "df_removals_graph.head()"
   ]
  },
  {
   "cell_type": "code",
   "execution_count": null,
   "metadata": {},
   "outputs": [],
   "source": [
    "# This data cannot be easily plotted. This is because of the type of data. The code below shows that the colummn 'Quarter' is a string (object)\n",
    "print(df_removals_graph.info())"
   ]
  },
  {
   "cell_type": "code",
   "execution_count": null,
   "metadata": {},
   "outputs": [],
   "source": [
    "# In order to turn this into dateime format it would be ideal to  first replace Q1 = January etc and then convert the string into date.time format so that it can be plotted\n",
    "# However, this has proven difficult (in a good way) so it has not happened"
   ]
  },
  {
   "cell_type": "code",
   "execution_count": null,
   "metadata": {},
   "outputs": [],
   "source": [
    "# Therefore a not ideal graph will be plotted using the data just to show a general trend in deportations.\n",
    "\n",
    "# Make it blue\n",
    "plt.style.use('bmh')\n",
    "df_removals_graph.plot.line()\n"
   ]
  },
  {
   "cell_type": "markdown",
   "metadata": {},
   "source": [
    "Figure 2 Deportations by Quarter (2011-2018)"
   ]
  },
  {
   "cell_type": "markdown",
   "metadata": {},
   "source": [
    "Whilst the x axis is incorrectly labeled, the graph above shows that there has been a general downward trend in the number of people deported since 2011. The next step is to look at who - which nationalities that is - has been been deported."
   ]
  },
  {
   "cell_type": "markdown",
   "metadata": {},
   "source": [
    "### Who is being deported?\n",
    "\n"
   ]
  },
  {
   "cell_type": "markdown",
   "metadata": {},
   "source": [
    "According to the timeline at the begining of the notebook, there are a few variables which could identify is individuals as victims of the windrush scandal.\n",
    "Firstly, that they came to the UK before 1973. Unfortunatly, this data is not easily publicly available. The second factor is somebodies' nationality - are they from a commonwealth country? What this means is that we cannot answer our original question without more data, but we can look at trends in deportations by nation.Whilst the Windrush Scandal was heavily publicised as mainly affecting people of Carribean origin, there have been reports that the scope of people affected is much wider (eg https://www.independent.co.uk/news/uk/home-news/windrush-commonwealth-hostile-india-ghana-pakistan-a8404936.html)\n",
    "\n",
    "For this reason, we will focus on deportations of people with nationality to commonwealth countries."
   ]
  },
  {
   "cell_type": "markdown",
   "metadata": {},
   "source": [
    "In order to answer this question we will be using a different data table.\n",
    "This can be found at https://www.europeandataportal.eu/data/?#/datasets/immigration-statistics-removals, the dataset entitled 'Q3 2018 Vol 4'."
   ]
  },
  {
   "cell_type": "code",
   "execution_count": null,
   "metadata": {},
   "outputs": [],
   "source": [
    "df_nationality = pd.read_excel('Q3 2018 Vol 4.xls', header=3)\n",
    "df_nationality"
   ]
  },
  {
   "cell_type": "markdown",
   "metadata": {},
   "source": [
    "Table 2, Deportations by Nationality"
   ]
  },
  {
   "cell_type": "markdown",
   "metadata": {},
   "source": [
    "The above table shows deportations since 2014 by nationality. There are immediate discrepencies between this table and deportations by type table - e.g. Table 1 suggests there were 3376 voluntary removals in 2014 Q1 whereas this table suggests there were 8319.\n",
    "\n",
    "It is unclear why this discrepancy exists. This makes further analysis confusing, as it is uncertain which numbers are best to use."
   ]
  },
  {
   "cell_type": "code",
   "execution_count": null,
   "metadata": {},
   "outputs": [],
   "source": [
    "# We can calculate which region of nationalities are most deported.\n",
    "\n",
    "# Create variable\n",
    "region = df_nationality['Geographical region']\n",
    "\n",
    "# Count the values\n",
    "region_counts = region.value_counts ()\n",
    "region_counts"
   ]
  },
  {
   "cell_type": "code",
   "execution_count": null,
   "metadata": {},
   "outputs": [],
   "source": [
    "# Create a bar chart to show the data more clearly\n",
    "region_counts.plot.barh ()"
   ]
  },
  {
   "cell_type": "markdown",
   "metadata": {},
   "source": [
    "The graph above shows that most people deported over the past 4 years have been of Sub-Saharan African nationality, followed by Central America and South Amererican nationality. However, we are interested in individuals who might be affected by the Windrush Scandal.\n",
    "\n",
    "Whilst the Windrush Scandal was heavily publicised as mainly affecting people of Carribean origin, there have been reports that the scope of people affected is much wider (eg https://www.independent.co.uk/news/uk/home-news/windrush-commonwealth-hostile-india-ghana-pakistan-a8404936.html)\n",
    "\n",
    "A look at the timeline and of Immmigration legislature as well as news, suggest that the Windrush Scandal could have affected anybody who's status to indefinate leave to remain in Britain was affected by the 1971 Immigration Act.\n",
    "Schedule 3 of the 1981 Immigration Act provides a legal definition of commonwealth nations, for whom the 1971 act would be applicable for.\n",
    "This list of countries will therefore be used to analyse the dataset.\n",
    "\n",
    "In order to easily access this data, the countries (listed at https://www.legislation.gov.uk/ukpga/1981/61/schedule/3) have been saved onto a CSV file.\n"
   ]
  },
  {
   "cell_type": "markdown",
   "metadata": {},
   "source": [
    "Whilst the Windrush Scandal was heavily publicised as mainly affecting people of Carribean origin, there have been reports that the scope of people affected is much wider (eg https://www.independent.co.uk/news/uk/home-news/windrush-commonwealth-hostile-india-ghana-pakistan-a8404936.html)"
   ]
  },
  {
   "cell_type": "markdown",
   "metadata": {},
   "source": [
    "As can be seen above, there is no Carribean region, or commonwealth region. In order to analyse the data efficiently below is a new dataframe of Commonwealth nations."
   ]
  },
  {
   "cell_type": "markdown",
   "metadata": {},
   "source": [
    "Figure 3 Deportations by Geographical Region (2014-2018)"
   ]
  },
  {
   "cell_type": "code",
   "execution_count": null,
   "metadata": {},
   "outputs": [],
   "source": [
    "# Saving the countries that we will analyse\n",
    "cw_countries = pd.read_csv('commonwealth countries.csv')\n",
    "cw_countries\n",
    "\n",
    "# This gives us an extra column that we don't need so we remove it\n",
    "cw_countries = cw_countries['Nationality']\n",
    "cw_countries"
   ]
  },
  {
   "cell_type": "code",
   "execution_count": null,
   "metadata": {},
   "outputs": [],
   "source": [
    "# The next step would be to identify the countries that are present in both df_cw_countries and df_nationalities: selecting only the Commonwealth countries.\n",
    "\n",
    "country = df_nationality['Country of nationality']\n",
    "commonwealth_countries = np.where(country== 'cw_countries')\n",
    "commonwealth_countries\n",
    "\n",
    "#Unfortunatly this is not doing what I want it to"
   ]
  },
  {
   "cell_type": "code",
   "execution_count": null,
   "metadata": {},
   "outputs": [],
   "source": [
    "Data_2018 = pd.read_excel('Q3 2018 Vol 4.xls', header=3)\n",
    "Data_2018"
   ]
  },
  {
   "cell_type": "code",
   "execution_count": null,
   "metadata": {},
   "outputs": [],
   "source": []
  },
  {
   "cell_type": "code",
   "execution_count": null,
   "metadata": {},
   "outputs": [],
   "source": []
  },
  {
   "cell_type": "code",
   "execution_count": null,
   "metadata": {},
   "outputs": [],
   "source": [
    "#Another analysis can be done in relation to the continent with the highest number of nationalities of deported individuals\n",
    "\n",
    "Data_2018 = pd.read_excel('Q3 2018 Vol 4.xls', header=3)\n",
    "Data_2018"
   ]
  },
  {
   "cell_type": "code",
   "execution_count": null,
   "metadata": {},
   "outputs": [],
   "source": [
    "#Create a variable and count the values\n",
    "region = Data_2018['Geographical region']\n",
    "region_counts = region.value_counts ()\n",
    "region_counts"
   ]
  },
  {
   "cell_type": "code",
   "execution_count": null,
   "metadata": {},
   "outputs": [],
   "source": [
    "#Recode the values so they are categorised into continents\n",
    "def recode_region(value):\n",
    "    if pd.isna(value):\n",
    "        return np.nan\n",
    "    if value.startswith('Africa'):\n",
    "        return 'Africa'\n",
    "    if value.startswith('America Central and South'):\n",
    "        return 'South and Central America'\n",
    "    if value.startswith('Europe Other'):\n",
    "        return 'Europe'\n",
    "    if value.startswith('Oceania'):\n",
    "        return 'Australia'\n",
    "    if value.startswith('EU'):\n",
    "        return 'Europe'\n",
    "    if value.startswith('Middle East'):\n",
    "        return 'Asia'\n",
    "    if value.startswith('Asia'):\n",
    "        return 'Asia'\n",
    "    if value.startswith('Other'):\n",
    "        return 'n/a'\n",
    "    if value.startswith('America North'):\n",
    "        return 'North America'"
   ]
  },
  {
   "cell_type": "code",
   "execution_count": null,
   "metadata": {},
   "outputs": [],
   "source": [
    "#Display the recode to cross check if there are any mistakes and make changes accordingly\n",
    "recoded_region = region.apply(recode_region)\n",
    "recoded_region"
   ]
  },
  {
   "cell_type": "code",
   "execution_count": null,
   "metadata": {},
   "outputs": [],
   "source": [
    "#Display the contents\n",
    "continent_counts = recoded_region.value_counts()\n",
    "continent_counts"
   ]
  },
  {
   "cell_type": "code",
   "execution_count": null,
   "metadata": {},
   "outputs": [],
   "source": [
    "#Visual display using bar chart\n",
    "continent_counts.plot.barh()"
   ]
  },
  {
   "cell_type": "code",
   "execution_count": null,
   "metadata": {},
   "outputs": [],
   "source": [
    "#From there, we could calculate totals for each country by year, and plot this on a graph. This would allow us to see if deportations to these countries have changed over time, and if so how. It would also be cool to perhaps predict the final quarter of data for 2018, using the mean as a predictor."
   ]
  },
  {
   "cell_type": "markdown",
   "metadata": {},
   "source": [
    "### Conclusion\n",
    "\n",
    "In conclusion, to properly answer the original question, different / more data is needed. It is unlikely that this information will become publicly availble, seeing as it is quite possible that the government has not collected the data.\n",
    "\n",
    "Immigration data provided by the UK government is complex and there are unexplained differences in numbers - for example, it is unclear why the sums of deportation by nationalities are different to the deportations by harm type.\n",
    "However, deportations overall have been steadily decreasing in the past seven year,  despite the introduciton of the Hostile Environment policy (or perhaps in spite of ).\n",
    "\n",
    "Further analysis which could be interesting could include seeing if there is a correlation between general immigrtaion statistics, asylum applications, etc and deportations to see if this is why deportations have reduced."
   ]
  },
  {
   "cell_type": "markdown",
   "metadata": {},
   "source": [
    "### References"
   ]
  },
  {
   "cell_type": "markdown",
   "metadata": {},
   "source": [
    "Legislation.gov.uk. (2019). British Nationality Act 1981. [online] Available at: https://www.legislation.gov.uk/ukpga/1981/61/schedule/3 [Accessed 6 Apr. 2019].\n",
    "\n",
    "Migration Observatory. (2019). Deportations, Removals and Voluntary Departures from the UK - Migration Observatory. [online] Available at: https://migrationobservatory.ox.ac.uk/resources/briefings/deportations-removals-and-voluntary-departures-from-the-uk/ [Accessed 6 Apr. 2019].\n",
    "\n",
    "Legislation.gov.uk. (n.d.). Immigration Act 1971. [online] Available at: https://www.legislation.gov.uk/ukpga/1971/77 [Accessed 6 Apr. 2019].\n",
    "\n",
    "Khomami, N. (2019). How the Windrush scandal led to fall of Amber Rudd – timeline. [online] the Guardian. Available at: https://www.theguardian.com/uk-news/2018/apr/30/how-windrush-scandal-fall-amber-rudd-timeline [Accessed 6 Apr. 2019].\n",
    "\n",
    "Kirkup, J. (2012). Theresa May interview: 'We're going to give illegal migrants a really hostile reception'. [online] Telegraph.co.uk. Available at: https://www.telegraph.co.uk/news/uknews/immigration/9291483/Theresa-May-interview-Were-going-to-give-illegal-migrants-a-really-hostile-reception.html [Accessed 6 Apr. 2019].\n",
    "\n",
    "Lee, G. (2018). FactCheck: who destroyed the Windrush landing cards?. [online] Channel 4 News. Available at: https://www.channel4.com/news/factcheck/factcheck-who-destroyed-the-windrush-landing-cards [Accessed 6 Apr. 2019].\n",
    "\n",
    "\n",
    "Bullman, M. (2018). Windrush scandal 'tip of iceberg' as other Commonwealth citizens targeted by hostile policies. [online] the Independant. Available at: https://www.independent.co.uk/news/uk/home-news/windrush-commonwealth-hostile-india-ghana-pakistan-a8404936.html [Accessed 6 Apr. 2019]."
   ]
  },
  {
   "cell_type": "code",
   "execution_count": null,
   "metadata": {},
   "outputs": [],
   "source": []
  }
 ],
 "metadata": {
  "jupytext": {
   "split_at_heading": true
  },
  "kernelspec": {
   "display_name": "Python 3",
   "language": "python",
   "name": "python3"
  }
 },
 "nbformat": 4,
 "nbformat_minor": 2
}
